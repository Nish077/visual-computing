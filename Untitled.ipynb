{
  "nbformat": 4,
  "nbformat_minor": 0,
  "metadata": {
    "colab": {
      "provenance": [],
      "gpuType": "T4",
      "authorship_tag": "ABX9TyPCsfTLnRb/MhmPliHO7g+S",
      "include_colab_link": true
    },
    "kernelspec": {
      "name": "python3",
      "display_name": "Python 3"
    },
    "language_info": {
      "name": "python"
    },
    "accelerator": "GPU"
  },
  "cells": [
    {
      "cell_type": "markdown",
      "metadata": {
        "id": "view-in-github",
        "colab_type": "text"
      },
      "source": [
        "<a href=\"https://colab.research.google.com/github/Nish077/visual-computing/blob/main/Untitled.ipynb\" target=\"_parent\"><img src=\"https://colab.research.google.com/assets/colab-badge.svg\" alt=\"Open In Colab\"/></a>"
      ]
    },
    {
      "cell_type": "code",
      "execution_count": 2,
      "metadata": {
        "id": "Eb_TLU5pnR0g"
      },
      "outputs": [],
      "source": [
        "import PIL\n",
        "import tqdm\n",
        "import pickle\n",
        "import numpy as np\n",
        "from skimage.util import img_as_ubyte\n",
        "import matplotlib.pyplot as plt\n",
        "from torchvision import datasets\n",
        "from skimage.filters import gabor\n",
        "from skimage.feature import local_binary_pattern\n",
        "from skimage.feature import graycomatrix, graycoprops\n"
      ]
    },
    {
      "cell_type": "code",
      "source": [
        "trainDataset = datasets.CIFAR10(root='./data', train=True, download=True)\n",
        "testDataset = datasets.CIFAR10(root='./data', train=False, download=True)"
      ],
      "metadata": {
        "colab": {
          "base_uri": "https://localhost:8080/"
        },
        "id": "WJfl_N3uo9FG",
        "outputId": "6c1d8b7a-0ec7-4bf4-a382-eb11123edfb4"
      },
      "execution_count": 3,
      "outputs": [
        {
          "output_type": "stream",
          "name": "stdout",
          "text": [
            "Downloading https://www.cs.toronto.edu/~kriz/cifar-10-python.tar.gz to ./data/cifar-10-python.tar.gz\n"
          ]
        },
        {
          "output_type": "stream",
          "name": "stderr",
          "text": [
            "100%|██████████| 170M/170M [00:04<00:00, 35.0MB/s]\n"
          ]
        },
        {
          "output_type": "stream",
          "name": "stdout",
          "text": [
            "Extracting ./data/cifar-10-python.tar.gz to ./data\n",
            "Files already downloaded and verified\n"
          ]
        }
      ]
    },
    {
      "cell_type": "code",
      "source": [
        "#feature extraction on a single image\n",
        "img = trainDataset[0][0]\n",
        "img_gray = img.convert('L')#convert to gracsale\n",
        "img_array = np.array(img_gray) #convert to array\n",
        "plt.imshow(img_array)"
      ],
      "metadata": {
        "colab": {
          "base_uri": "https://localhost:8080/",
          "height": 447
        },
        "id": "atWgu41Lo9wX",
        "outputId": "c932aa0f-856f-4f52-efb2-ef4479c05922"
      },
      "execution_count": 4,
      "outputs": [
        {
          "output_type": "execute_result",
          "data": {
            "text/plain": [
              "<matplotlib.image.AxesImage at 0x794137a2ba90>"
            ]
          },
          "metadata": {},
          "execution_count": 4
        },
        {
          "output_type": "display_data",
          "data": {
            "text/plain": [
              "<Figure size 640x480 with 1 Axes>"
            ],
            "image/png": "[encoded data removed]"
          },
          "metadata": {}
        }
      ]
    },
    {
      "cell_type": "markdown",
      "source": [
        "**Local Binary Pattern**"
      ],
      "metadata": {
        "id": "YgsmUdyEuyN0"
      }
    },
    {
      "cell_type": "code",
      "source": [
        "#find lbp\n",
        "lbp = local_binary_pattern(img_array, 8, 1, 'uniform')#8, 1 is no of point rad=1 and points =8\n",
        "lbp = img_as_ubyte(lbp / lbp.max())\n",
        "#lbp = np.uint8((lbp/lbp.max())*255) # convert to unit8\n",
        "#lbp_img = PIL.Image.fromarray(lbp)\n",
        "plt.imshow(lbp, cmap='gray')#displaying lbp"
      ],
      "metadata": {
        "colab": {
          "base_uri": "https://localhost:8080/",
          "height": 447
        },
        "id": "_TJaUBYfqzVq",
        "outputId": "0b1ec161-cdc4-4d89-fd68-13e129ef5cf4"
      },
      "execution_count": 5,
      "outputs": [
        {
          "output_type": "execute_result",
          "data": {
            "text/plain": [
              "<matplotlib.image.AxesImage at 0x7941338ca2d0>"
            ]
          },
          "metadata": {},
          "execution_count": 5
        },
        {
          "output_type": "display_data",
          "data": {
            "text/plain": [
              "<Figure size 640x480 with 1 Axes>"
            ],
            "image/png": "[encoded data removed]"
          },
          "metadata": {}
        }
      ]
    },
    {
      "cell_type": "code",
      "source": [
        "lbp_hist, _ = np.histogram(lbp, bins=np.arange(257), density=True)\n",
        "lbp_prob = lbp_hist / lbp_hist.sum()\n",
        "lbp_energy = np.sum(lbp_prob**2)\n",
        "lbp_entropy = -np.sum(lbp_prob * np.log2(lbp_prob + np.finfo(float).eps))\n",
        "print(f\"LBP Energy: {lbp_energy:.8f}\")\n",
        "print(f\"LBP Entropy: {lbp_entropy:.8f}\")"
      ],
      "metadata": {
        "colab": {
          "base_uri": "https://localhost:8080/"
        },
        "id": "z1K5170Cr4OM",
        "outputId": "74b35e73-8fb4-4a4c-ef2d-5712e6ec097b"
      },
      "execution_count": 6,
      "outputs": [
        {
          "output_type": "stream",
          "name": "stdout",
          "text": [
            "LBP Energy: 0.10948563\n",
            "LBP Entropy: 3.25595705\n"
          ]
        }
      ]
    },
    {
      "cell_type": "markdown",
      "source": [
        "\n",
        "\n",
        "**Co-occurence matrix**\n",
        ""
      ],
      "metadata": {
        "id": "cRT99xx0u9Nm"
      }
    },
    {
      "cell_type": "code",
      "source": [
        "#finding glcm features from coocurence  matrix\n",
        "glcm = graycomatrix(img_array, [2], [0, np.pi/4, np.pi/2, 3*np.pi/4], levels=256, normed=True, symmetric=True)\n",
        "contrast = graycoprops(glcm, 'contrast')\n",
        "dissimilarity = graycoprops(glcm, 'dissimilarity')\n",
        "homogeneity = graycoprops(glcm, 'homogeneity')\n",
        "energy = graycoprops(glcm, 'energy')\n",
        "correlation = graycoprops(glcm, 'correlation')\n",
        "print(f\"Contrast: {contrast[0, 0]:.8f}\")\n",
        "print(f\"Dissimilarity: {dissimilarity[0, 0]:.8f}\")\n",
        "print(f\"Homogeneity: {homogeneity[0, 0]:.8f}\")\n",
        "print(f\"Energy: {energy[0, 0]:.8f}\")\n",
        "print(f\"Correlation: {correlation[0, 0]:.8f}\")\n"
      ],
      "metadata": {
        "colab": {
          "base_uri": "https://localhost:8080/"
        },
        "id": "lJtjXggLuP36",
        "outputId": "3172e213-19c4-46f6-9d18-9dd52cc997c7"
      },
      "execution_count": 7,
      "outputs": [
        {
          "output_type": "stream",
          "name": "stdout",
          "text": [
            "Contrast: 1296.89166667\n",
            "Dissimilarity: 24.22500000\n",
            "Homogeneity: 0.06323756\n",
            "Energy: 0.02728292\n",
            "Correlation: 0.61196184\n"
          ]
        }
      ]
    },
    {
      "cell_type": "markdown",
      "source": [
        "Wavelets\n",
        "\n",
        "\n",
        "```\n",
        "\n",
        "\n",
        "**Gabor Filter**"
      ],
      "metadata": {
        "id": "d22EBantvwdV"
      }
    },
    {
      "cell_type": "code",
      "source": [
        "#Gabor filter\n",
        "gabor_filter_real, gabor_filter_imag = gabor(img_array, frequency=0.6) #get real and imaginary value part\n",
        "gabor_filter = (gabor_filter_real**2 + gabor_filter_imag**2)**0.5 #find the magnitude\n",
        "#displaying the filter response\n",
        "fig, ax = plt.subplots(1,3)\n",
        "ax[0].imshow(gabor_filter_real, cmap='gray')\n",
        "ax[1].imshow(gabor_filter_imag, cmap='gray')\n",
        "ax[2].imshow(gabor_filter, cmap='gray')\n",
        "plt.show()"
      ],
      "metadata": {
        "colab": {
          "base_uri": "https://localhost:8080/",
          "height": 209
        },
        "id": "ThHUD1vHvLv-",
        "outputId": "7ff9a38e-03ff-408d-c005-bd53f99c73a2"
      },
      "execution_count": 8,
      "outputs": [
        {
          "output_type": "display_data",
          "data": {
            "text/plain": [
              "<Figure size 640x480 with 3 Axes>"
            ],
            "image/png": "[encoded data removed]"
          },
          "metadata": {}
        }
      ]
    },
    {
      "cell_type": "code",
      "source": [
        "#energy , entropy from gabor filter\n",
        "gabor_hist, _ = np.histogram(gabor_filter, bins=np.arange(257), density=True)\n",
        "gabor_prob = gabor_hist / gabor_hist.sum()\n",
        "gabor_energy = np.sum(gabor_prob**2) # Calculate the energy of the Gabor filter response\n",
        "gabor_entropy = -np.sum(gabor_prob * np.log2(gabor_prob + np.finfo(float).eps))\n",
        "print(f\"Gabor Energy: {gabor_energy:.8f}\")\n",
        "print(f\"Gabor Entropy: {gabor_entropy:.8f}\")"
      ],
      "metadata": {
        "colab": {
          "base_uri": "https://localhost:8080/"
        },
        "id": "MUNa_dfiws2C",
        "outputId": "472e4f11-0b87-4172-f019-a773382392cb"
      },
      "execution_count": 9,
      "outputs": [
        {
          "output_type": "stream",
          "name": "stdout",
          "text": [
            "Gabor Energy: 0.08884048\n",
            "Gabor Entropy: 3.69087956\n"
          ]
        }
      ]
    },
    {
      "cell_type": "code",
      "source": [
        "#connecting cuda\n",
        "import torch\n",
        "torch.cuda.is_available()\n",
        "device = torch.device(\"cuda\" if torch.cuda.is_available() else \"cpu\")\n",
        "print(device)\n"
      ],
      "metadata": {
        "colab": {
          "base_uri": "https://localhost:8080/"
        },
        "id": "vft_B5TW1Pqp",
        "outputId": "22421b39-cd53-4d11-888c-3fcb23e6a2d8"
      },
      "execution_count": 10,
      "outputs": [
        {
          "output_type": "stream",
          "name": "stdout",
          "text": [
            "cuda\n"
          ]
        }
      ]
    },
    {
      "cell_type": "markdown",
      "source": [
        "**Extracting the features from all the image dataset**"
      ],
      "metadata": {
        "id": "hk050swCxSR6"
      }
    },
    {
      "cell_type": "code",
      "source": [
        "#Generating training data by extracting features from all images\n",
        "label = []\n",
        "featLength = 2+5+2 #lbp + co-occurence + gabor\n",
        "trainFeat = np.zeros((len(trainDataset), featLength)) #feature vector\n",
        "for tr in tqdm.tqdm(range(len(trainDataset))):\n",
        "  img = trainDataset[tr][0]\n",
        "  img_gray = img.convert('L')\n",
        "  img_array = np.array(img_gray.getdata()).reshape(img.size[1], img.size[0])\n",
        "\n",
        "  #lbp\n",
        "  feat_lbp = local_binary_pattern(img_array, 5, 2, 'uniform').reshape(img.size[1], img.size[0])\n",
        "  lbp_hist, _ = np.histogram(feat_lbp, bins=np.arange(257), density=True)\n",
        "  lbp_prob = lbp_hist / lbp_hist.sum()\n",
        "  lbp_energy = np.sum(lbp_prob**2)\n",
        "  lbp_entropy = -np.sum(lbp_prob * np.log2(lbp_prob + np.finfo(float).eps))\n",
        "\n",
        "  #GLCM\n",
        "  glcm = graycomatrix(img_array, [2], [0], levels=256, normed=True, symmetric=True)\n",
        "  contrast = graycoprops(glcm, 'contrast')\n",
        "  dissimilarity = graycoprops(glcm, 'dissimilarity')\n",
        "  homogeneity = graycoprops(glcm, 'homogeneity')\n",
        "  energy = graycoprops(glcm, 'energy')\n",
        "  correlation = graycoprops(glcm, 'correlation')\n",
        "  feat_glcm = np.array([contrast[0][0], dissimilarity[0][0], homogeneity[0][0], energy[0][0], correlation[0][0]])\n",
        "\n",
        "  #Gabor filter\n",
        "  gaborFilt_real , gaborFilt_img =gabor(img_array, frequency=0.6)\n",
        "  gaborFilt = (gaborFilt_real**2 + gaborFilt_img**2)**0.5\n",
        "  gabor_hist, _ = np.histogram(gaborFilt, bins=np.arange(257), density=True)\n",
        "  gabor_prob = gabor_hist / gabor_hist.sum()\n",
        "  gabor_energy = np.sum(gabor_prob**2) # Calculate the energy of the Gabor filter response\n",
        "  gabor_entropy = -np.nansum(np.multiply(gabor_prob, np.log2(gabor_prob + np.finfo(float).eps)))\n",
        "\n",
        "  #concatinating features(2+5+2)\n",
        "  concat_feat = np.concatenate(([lbp_energy, lbp_entropy], feat_glcm, [gabor_energy, gabor_entropy]))\n",
        "  trainFeat[tr] = concat_feat\n",
        "  label.append(trainDataset[tr][1])\n",
        "\n",
        "trainLabel = np.array(label) #convert from list to array\n"
      ],
      "metadata": {
        "colab": {
          "base_uri": "https://localhost:8080/"
        },
        "id": "BOIBqNQtxR7c",
        "outputId": "a943e68a-5920-4785-877b-83f346959a65"
      },
      "execution_count": 11,
      "outputs": [
        {
          "output_type": "stream",
          "name": "stderr",
          "text": [
            "100%|██████████| 50000/50000 [03:25<00:00, 243.34it/s]\n"
          ]
        }
      ]
    },
    {
      "cell_type": "code",
      "source": [
        "#Generating testing data by extracting features from all images\n",
        "label = []\n",
        "\n",
        "testFeat = np.zeros((len(testDataset), featLength)) #feature vector\n",
        "for ts in tqdm.tqdm(range(len(testDataset))):\n",
        "  img = testDataset[ts][0]\n",
        "  img_gray = img.convert('L')\n",
        "  img_array = np.array(img_gray.getdata()).reshape(img.size[1], img.size[0])\n",
        "\n",
        "  #lbp\n",
        "  feat_lbp = local_binary_pattern(img_array, 5, 2, 'uniform').reshape(img.size[1], img.size[0])\n",
        "  lbp_hist, _ = np.histogram(feat_lbp, bins=np.arange(257), density=True)\n",
        "  lbp_prob = lbp_hist / lbp_hist.sum()\n",
        "  lbp_energy = np.sum(lbp_prob**2)\n",
        "  lbp_entropy = -np.sum(lbp_prob * np.log2(lbp_prob + np.finfo(float).eps))\n",
        "\n",
        "  #GLCM\n",
        "  glcm = graycomatrix(img_array, [2], [0], levels=256, normed=True, symmetric=True)\n",
        "  contrast = graycoprops(glcm, 'contrast')\n",
        "  dissimilarity = graycoprops(glcm, 'dissimilarity')\n",
        "  homogeneity = graycoprops(glcm, 'homogeneity')\n",
        "  energy = graycoprops(glcm, 'energy')\n",
        "  correlation = graycoprops(glcm, 'correlation')\n",
        "  feat_glcm = np.array([contrast[0][0], dissimilarity[0][0], homogeneity[0][0], energy[0][0], correlation[0][0]])\n",
        "\n",
        "  #Gabor filter\n",
        "  gaborFilt_real , gaborFilt_img =gabor(img_array, frequency=0.6)\n",
        "  gaborFilt = (gaborFilt_real**2 + gaborFilt_img**2)**0.5\n",
        "  gabor_hist, _ = np.histogram(gaborFilt, bins=np.arange(257), density=True)\n",
        "  gabor_prob = gabor_hist / gabor_hist.sum()\n",
        "  gabor_energy = np.sum(gabor_prob**2) # Calculate the energy of the Gabor filter response\n",
        "  gabor_entropy = -np.nansum(np.multiply(gabor_prob, np.log2(gabor_prob + np.finfo(float).eps)))\n",
        "\n",
        "  #concatinating features(2+5+2)\n",
        "  concat_feat = np.concatenate(([lbp_energy, lbp_entropy], feat_glcm, [gabor_energy, gabor_entropy]))\n",
        "  testFeat[ts, :] = concat_feat\n",
        "  label.append(testDataset[ts][1])\n",
        "\n",
        "testLabel = np.array(label) #convert from list to array\n"
      ],
      "metadata": {
        "colab": {
          "base_uri": "https://localhost:8080/"
        },
        "id": "IXUT9HLkw88z",
        "outputId": "67d1a8dd-049a-4f43-a34f-6a8037cbfd80"
      },
      "execution_count": 12,
      "outputs": [
        {
          "output_type": "stream",
          "name": "stderr",
          "text": [
            "100%|██████████| 10000/10000 [00:40<00:00, 249.25it/s]\n"
          ]
        }
      ]
    },
    {
      "cell_type": "markdown",
      "source": [
        "**Feature Normalization**"
      ],
      "metadata": {
        "id": "7EJo_y-r3t33"
      }
    },
    {
      "cell_type": "code",
      "source": [
        "#normalizing train features to range [0, 1]\n",
        "trainMaxs = np.amax(trainFeat, axis=0)\n",
        "trainMins = np.amin(trainFeat, axis=0)\n",
        "trainMax_rep = np.tile(trainMaxs, (len(trainFeat), 1))\n",
        "trainMin_rep = np.tile(trainMins, (len(trainFeat), 1))\n",
        "trainFeat_norm = (trainFeat - trainMin_rep) / (trainMax_rep - trainMin_rep)\n",
        "\n",
        "#normalizing the test features\n",
        "testMax_rep = np.tile(trainMaxs, (len(testFeat), 1))\n",
        "testMin_rep = np.tile(trainMins, (len(testFeat), 1))\n",
        "testFeat_norm = np.divide(testFeat - testMin_rep, testMax_rep)"
      ],
      "metadata": {
        "id": "mzNatX2r3sft"
      },
      "execution_count": 13,
      "outputs": []
    },
    {
      "cell_type": "markdown",
      "source": [
        "**Saving feature matrices to disk**"
      ],
      "metadata": {
        "id": "Em6YapR44x8P"
      }
    },
    {
      "cell_type": "code",
      "source": [
        "#saving normalized training data and labels\n",
        "with open('trainFeat.pkl', 'wb') as f:\n",
        "  pickle.dump(trainFeat_norm, f)\n",
        "\n",
        "with open('trainLabel.pkl', 'wb') as f:\n",
        "  pickle.dump(trainLabel, f)\n",
        "\n",
        "#saving normalized testing data and labels\n",
        "with open('testFeat.pkl', 'wb') as f:\n",
        "  pickle.dump(testFeat_norm, f)\n",
        "\n",
        "with open('testLabel.pkl', 'wb') as f:\n",
        "  pickle.dump(testLabel, f)\n",
        "\n",
        "print('Files saved to disk!')"
      ],
      "metadata": {
        "colab": {
          "base_uri": "https://localhost:8080/"
        },
        "id": "CREvj8vh4wSF",
        "outputId": "6d216284-f8a0-4e7e-ff3d-94cfc2f3d3e7"
      },
      "execution_count": 14,
      "outputs": [
        {
          "output_type": "stream",
          "name": "stdout",
          "text": [
            "Files saved to disk!\n"
          ]
        }
      ]
    }
  ]
}